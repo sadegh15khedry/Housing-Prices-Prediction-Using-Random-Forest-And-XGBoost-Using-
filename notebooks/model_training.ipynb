{
 "cells": [
  {
   "cell_type": "code",
   "execution_count": 1,
   "metadata": {},
   "outputs": [],
   "source": [
    "import sys\n",
    "import os\n",
    "%matplotlib inline\n",
    "sys.path.append(os.path.abspath('../src'))\n",
    "from data_prepocessing import load_data\n",
    "from model_training import train_model\n",
    "from utils import save_model, get_Errors"
   ]
  },
  {
   "cell_type": "code",
   "execution_count": 2,
   "metadata": {},
   "outputs": [],
   "source": [
    "#loading the datasets\n",
    "x_train = load_data(\"../datasets/ready/train/x_train.csv\")\n",
    "y_train = load_data(\"../datasets/ready/train/y_train.csv\")\n",
    "\n",
    "x_val = load_data(\"../datasets/ready/val/x_val.csv\")\n",
    "y_val = load_data(\"../datasets/ready/val/y_val.csv\")"
   ]
  },
  {
   "cell_type": "code",
   "execution_count": 3,
   "metadata": {},
   "outputs": [],
   "source": [
    "max_depth = 15\n",
    "n_estimators = 100"
   ]
  },
  {
   "cell_type": "code",
   "execution_count": 4,
   "metadata": {},
   "outputs": [
    {
     "name": "stderr",
     "output_type": "stream",
     "text": [
      "/home/sadegh/anaconda3/envs/housing-random-forest/lib/python3.9/site-packages/sklearn/base.py:1474: DataConversionWarning: A column-vector y was passed when a 1d array was expected. Please change the shape of y to (n_samples,), for example using ravel().\n",
      "  return fit_method(estimator, *args, **kwargs)\n"
     ]
    }
   ],
   "source": [
    "#traingin the random forest model \n",
    "model = train_model(x_train, y_train, n_estimators, max_depth)"
   ]
  },
  {
   "cell_type": "code",
   "execution_count": 5,
   "metadata": {},
   "outputs": [
    {
     "name": "stdout",
     "output_type": "stream",
     "text": [
      "Mean Squared Error: 2.24\n",
      "Mean Absolute Error (MAE): 0.89\n",
      "Root Mean Squared Error (RMSE): 1.50\n",
      "R-squared: 0.97\n"
     ]
    }
   ],
   "source": [
    "# Get predictions on the training data\n",
    "y_pred_train = model.predict(x_train)\n",
    "\n",
    "# Calculate Mean Squared Error (MSE)\n",
    "get_Errors(y_train, y_pred_train)"
   ]
  },
  {
   "cell_type": "code",
   "execution_count": 6,
   "metadata": {},
   "outputs": [
    {
     "name": "stdout",
     "output_type": "stream",
     "text": [
      "Mean Squared Error: 15.66\n",
      "Mean Absolute Error (MAE): 2.61\n",
      "Root Mean Squared Error (RMSE): 3.96\n",
      "R-squared: 0.74\n"
     ]
    }
   ],
   "source": [
    "# Get predictions on the training data\n",
    "y_pred_val = model.predict(x_val)\n",
    "\n",
    "# Calculate Mean Squared Error (MSE)\n",
    "get_Errors(y_val, y_pred_val)"
   ]
  },
  {
   "cell_type": "code",
   "execution_count": 7,
   "metadata": {},
   "outputs": [],
   "source": [
    "#saving the tarained random forest model \n",
    "save_model(model, '../models/random_forest.joblib')"
   ]
  }
 ],
 "metadata": {
  "kernelspec": {
   "display_name": "Python 3 (ipykernel)",
   "language": "python",
   "name": "python3"
  },
  "language_info": {
   "codemirror_mode": {
    "name": "ipython",
    "version": 3
   },
   "file_extension": ".py",
   "mimetype": "text/x-python",
   "name": "python",
   "nbconvert_exporter": "python",
   "pygments_lexer": "ipython3",
   "version": "3.9.19"
  }
 },
 "nbformat": 4,
 "nbformat_minor": 2
}
